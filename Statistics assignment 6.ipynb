{
 "cells": [
  {
   "cell_type": "raw",
   "id": "56f6a957-87d0-4337-b537-092a795de060",
   "metadata": {},
   "source": [
    "Q1. Calculate the 95% confidence interval for a sample of data with a mean of 50 and a standard deviation\n",
    "of 5 using Python. Interpret the results.\n",
    "\n",
    "Ans--"
   ]
  },
  {
   "cell_type": "markdown",
   "id": "58fee718-a389-43b1-9109-e6acac942b03",
   "metadata": {},
   "source": [
    "To calculate the 95% confidence interval for a sample of data with a mean of 50 and a standard deviation of 5 using Python, you can use the scipy library. The scipy.stats module provides a function called t.interval that can be used for this purpose. Since the population standard deviation is unknown, we'll use a t-distribution for the calculation.\n",
    "\n",
    "First, make sure you have scipy installed by running the following command if you haven't already:"
   ]
  },
  {
   "cell_type": "code",
   "execution_count": 3,
   "id": "2b0b4df4-4077-4751-877b-1823feb6732e",
   "metadata": {},
   "outputs": [
    {
     "name": "stdout",
     "output_type": "stream",
     "text": [
      "95% Confidence Interval: (49.01, 50.99)\n"
     ]
    }
   ],
   "source": [
    "import scipy.stats as stats\n",
    "\n",
    "#Sample mean and standard deviation\n",
    "sample_mean=50\n",
    "sample_std_dev=5\n",
    "\n",
    "#Sample size\n",
    "sample_size=100\n",
    "\n",
    "# Degrees of freedom for a 95% confidence interval\n",
    "degrees_of_freedom = sample_size - 1\n",
    "\n",
    "# Calculate the standard error (standard deviation of the sampling distribution of the mean)\n",
    "standard_error = sample_std_dev / (sample_size ** 0.5)\n",
    "\n",
    "# Calculate the t-score for a 95% confidence level and the given degrees of freedom\n",
    "t_score = stats.t.ppf(0.975, df=degrees_of_freedom)\n",
    "\n",
    "# Calculate the margin of error\n",
    "margin_of_error = t_score * standard_error\n",
    "\n",
    "# Calculate the confidence interval\n",
    "lower_bound = sample_mean - margin_of_error\n",
    "upper_bound = sample_mean + margin_of_error\n",
    "\n",
    "print(f\"95% Confidence Interval: ({lower_bound:.2f}, {upper_bound:.2f})\")"
   ]
  },
  {
   "cell_type": "markdown",
   "id": "0b766bf6-d965-49f8-8898-1c8413039685",
   "metadata": {},
   "source": [
    "Interpretation of the results:\n",
    "The 95% confidence interval represents a range of values within which we are 95% confident that the true population mean lies. In this case, with a sample mean of 50 and a standard deviation of 5, the 95% confidence interval would be computed around this sample mean. For example, if you were to repeat the sampling process multiple times and calculate the confidence intervals each time, about 95% of those intervals would contain the true population mean.\n",
    "\n",
    "Note that the sample size is crucial for accurate confidence intervals. The larger the sample size, the narrower the confidence interval, leading to higher precision in our estimate of the population mean. Also, keep in mind that the confidence interval only tells us about the uncertainty in the estimate; it doesn't tell us anything about the underlying distribution or the shape of the data."
   ]
  },
  {
   "cell_type": "raw",
   "id": "0d1348ce-4813-4be3-a3a5-03da7e418449",
   "metadata": {},
   "source": [
    "Q2. Conduct a chi-square goodness of fit test to determine if the distribution of colors of M&Ms in a bag\n",
    "matches the expected distribution of 20% blue, 20% orange, 20% green, 10% yellow, 10% red, and 20%\n",
    "brown. Use Python to perform the test with a significance level of 0.05.\n",
    "\n",
    "Ans--"
   ]
  },
  {
   "cell_type": "markdown",
   "id": "cbbfa6c3-f274-4ca2-a10f-260ff386740d",
   "metadata": {},
   "source": [
    "To conduct a chi-square goodness of fit test in Python, we can use the scipy.stats module. Before running the test, we need to collect the observed frequencies of each color in the M&Ms bag. Let's assume we have the following observed frequencies:\n",
    "\n",
    "Observed frequencies: [blue, orange, green, yellow, red, brown] = [18, 22, 17, 9, 12, 22]\n",
    "\n",
    "Now, we can perform the chi-square goodness of fit test using Python as follows:"
   ]
  },
  {
   "cell_type": "code",
   "execution_count": 1,
   "id": "d5a20e1a-5537-4f25-be52-68e02c0709d4",
   "metadata": {},
   "outputs": [
    {
     "name": "stdout",
     "output_type": "stream",
     "text": [
      "Chi-square statistic: 1.55\n",
      "P-value: 0.9072287038000654\n",
      "Fail to reject the null hypothesis. The distribution of colors matches the expected distribution.\n"
     ]
    }
   ],
   "source": [
    "import numpy as np\n",
    "from scipy.stats import chisquare\n",
    "\n",
    "# Observed frequencies\n",
    "observed_frequencies = np.array([18, 22, 17, 9, 12, 22])\n",
    "\n",
    "# Expected frequencies (20% for each color)\n",
    "expected_frequencies = np.array([0.2, 0.2, 0.2, 0.1, 0.1, 0.2]) * sum(observed_frequencies)\n",
    "\n",
    "# Perform the chi-square goodness of fit test\n",
    "chi2_stat, p_value = chisquare(f_obs=observed_frequencies, f_exp=expected_frequencies)\n",
    "\n",
    "# Define the significance level\n",
    "significance_level = 0.05\n",
    "\n",
    "# Print the results\n",
    "print(\"Chi-square statistic:\", chi2_stat)\n",
    "print(\"P-value:\", p_value)\n",
    "\n",
    "# Compare p-value with significance level\n",
    "if p_value < significance_level:\n",
    "    print(\"Reject the null hypothesis. The distribution of colors does not match the expected distribution.\")\n",
    "else:\n",
    "    print(\"Fail to reject the null hypothesis. The distribution of colors matches the expected distribution.\")"
   ]
  },
  {
   "cell_type": "markdown",
   "id": "1b98dfdc-3e74-4d55-b101-d3a83ea3342e",
   "metadata": {},
   "source": [
    "Please note that you need to replace the observed_frequencies array with the actual observed frequencies you collected from your M&Ms bag. The chi-square statistic measures the difference between the observed and expected frequencies, and the p-value indicates the probability of observing such a difference due to random chance. If the p-value is less than the significance level (0.05 in this case), we reject the null hypothesis, suggesting that the distribution of colors does not match the expected distribution. Otherwise, we fail to reject the null hypothesis, indicating that the observed distribution matches the expected distribution."
   ]
  },
  {
   "cell_type": "raw",
   "id": "fc9da76d-34e7-47b8-b115-99007c8d1c4f",
   "metadata": {},
   "source": [
    "Q3. Use Python to calculate the chi-square statistic and p-value for a contingency table with the following\n",
    "data: \n",
    "                    Group A            Group B\n",
    "Outcome 1           20                    15\n",
    "Outcome 2           10                    25\n",
    "Outcome 3           15                    20\n",
    "Interpret the results of the test.\n",
    "\n",
    "Ans--"
   ]
  },
  {
   "cell_type": "markdown",
   "id": "e878e3d3-f882-44a9-a61a-1c4aaa1658f2",
   "metadata": {},
   "source": [
    "To calculate the chi-square statistic and p-value for the given contingency table in Python, you can use the scipy.stats module. Make sure you have scipy installed by running pip install scipy before running the code.\n",
    "\n",
    "Here's the Python code to calculate the chi-square statistic and p-value:"
   ]
  },
  {
   "cell_type": "code",
   "execution_count": 2,
   "id": "282adcf2-caf0-4491-92d7-ef68d6a99732",
   "metadata": {},
   "outputs": [
    {
     "name": "stdout",
     "output_type": "stream",
     "text": [
      "chi-square: 5.833333333333334\n",
      "P-Vakue: 0.05411376622282158\n",
      "Degree of Freedom: 2\n",
      "Expected Frequency:\n",
      "[[15. 20.]\n",
      " [15. 20.]\n",
      " [15. 20.]]\n"
     ]
    }
   ],
   "source": [
    "import numpy as np\n",
    "from scipy.stats import chi2_contingency\n",
    "\n",
    "# Create the contigency table as a 2D array\n",
    "data=np.array([[20,15],\n",
    "              [10,25],\n",
    "               [15,20]])\n",
    "#Calculate the chi-square statistics,p-value,degree of freedom, and the expected frequencies\n",
    "chi2,p_value,dof,expected=chi2_contingency(data)\n",
    "\n",
    "print('chi-square:',chi2)\n",
    "print('P-Vakue:',p_value)\n",
    "print('Degree of Freedom:',dof)\n",
    "print('Expected Frequency:')\n",
    "print(expected)"
   ]
  },
  {
   "cell_type": "markdown",
   "id": "2a4bd46e-d2af-4bf3-aa2e-fddc870423a6",
   "metadata": {},
   "source": [
    "This code will output the chi-square statistic, p-value, degrees of freedom, and the expected frequencies for the given contingency table. The chi-square statistic measures the difference between the observed and expected frequencies, and the p-value represents the probability of obtaining such a difference if there is no association between the variables. If the p-value is less than a significance level (e.g., 0.05), it suggests a statistically significant association between the groups and outcomes."
   ]
  },
  {
   "cell_type": "raw",
   "id": "0a0d1244-4f49-42d5-bab5-8c97836f0b5e",
   "metadata": {},
   "source": [
    "Q4. A study of the prevalence of smoking in a population of 500 individuals found that 60 individuals\n",
    "smoked. Use Python to calculate the 95% confidence interval for the true proportion of individuals in the\n",
    "population who smoke.\n",
    "\n",
    "Ans--"
   ]
  },
  {
   "cell_type": "markdown",
   "id": "596e6bef-5694-47ab-b306-4663c93619c3",
   "metadata": {},
   "source": [
    "To calculate the 95% confidence interval for the true proportion of individuals in the population who smoke, you can use the formula for the confidence interval of a proportion. In Python, you can use the statsmodels.stats.proportion module to compute this interval. Make sure you have statsmodels installed by running pip install statsmodels before executing the code.\n",
    "\n",
    "Here's the Python code to calculate the 95% confidence interval:"
   ]
  },
  {
   "cell_type": "code",
   "execution_count": 1,
   "id": "1e97a4d6-4db5-439a-b2f5-8bcb681d6c1c",
   "metadata": {},
   "outputs": [
    {
     "name": "stdout",
     "output_type": "stream",
     "text": [
      "Requirement already satisfied: statsmodels in /opt/conda/lib/python3.10/site-packages (0.13.5)\n",
      "Requirement already satisfied: packaging>=21.3 in /opt/conda/lib/python3.10/site-packages (from statsmodels) (22.0)\n",
      "Requirement already satisfied: scipy>=1.3 in /opt/conda/lib/python3.10/site-packages (from statsmodels) (1.9.3)\n",
      "Requirement already satisfied: pandas>=0.25 in /opt/conda/lib/python3.10/site-packages (from statsmodels) (1.5.2)\n",
      "Requirement already satisfied: patsy>=0.5.2 in /opt/conda/lib/python3.10/site-packages (from statsmodels) (0.5.3)\n",
      "Requirement already satisfied: numpy>=1.17 in /opt/conda/lib/python3.10/site-packages (from statsmodels) (1.23.5)\n",
      "Requirement already satisfied: python-dateutil>=2.8.1 in /opt/conda/lib/python3.10/site-packages (from pandas>=0.25->statsmodels) (2.8.2)\n",
      "Requirement already satisfied: pytz>=2020.1 in /opt/conda/lib/python3.10/site-packages (from pandas>=0.25->statsmodels) (2022.6)\n",
      "Requirement already satisfied: six in /opt/conda/lib/python3.10/site-packages (from patsy>=0.5.2->statsmodels) (1.16.0)\n",
      "Note: you may need to restart the kernel to use updated packages.\n"
     ]
    }
   ],
   "source": [
    "pip install statsmodels"
   ]
  },
  {
   "cell_type": "code",
   "execution_count": 2,
   "id": "cf17cf96-5eeb-4f03-a42e-064b4bf2f013",
   "metadata": {},
   "outputs": [
    {
     "name": "stdout",
     "output_type": "stream",
     "text": [
      "95% Confidence Interval: (0.0915, 0.1485)\n"
     ]
    }
   ],
   "source": [
    "import statsmodels.stats.proportion as proportion\n",
    "\n",
    "# Given data\n",
    "total_population = 500\n",
    "smokers = 60\n",
    "\n",
    "# Calculate the proportion of smokers in the sample\n",
    "sample_proportion = smokers / total_population\n",
    "\n",
    "# Define the confidence level (95%)\n",
    "confidence_level = 0.95\n",
    "\n",
    "# Calculate the confidence interval\n",
    "conf_interval = proportion.proportion_confint(smokers, total_population, alpha=1-confidence_level)\n",
    "\n",
    "# Print the result\n",
    "print(f\"95% Confidence Interval: ({conf_interval[0]:.4f}, {conf_interval[1]:.4f})\")"
   ]
  },
  {
   "cell_type": "markdown",
   "id": "69194095-d6ea-4a50-b5e4-b95c2f786b2c",
   "metadata": {},
   "source": [
    "In this code, we use the proportion_confint function from the statsmodels.stats.proportion module to calculate the confidence interval. The function takes the number of smokers (smokers), the total population size (total_population), and the desired significance level (alpha) as arguments and returns a tuple containing the lower and upper bounds of the confidence interval."
   ]
  },
  {
   "cell_type": "raw",
   "id": "1d76b443-a46e-4ced-8324-9374d96d6b32",
   "metadata": {},
   "source": [
    "Q5. Calculate the 90% confidence interval for a sample of data with a mean of 75 and a standard deviation\n",
    "of 12 using Python. Interpret the results.\n",
    "\n",
    "Ans--"
   ]
  },
  {
   "cell_type": "markdown",
   "id": "561a79a1-9f70-4155-a21b-f10ac303d5b9",
   "metadata": {},
   "source": [
    "To calculate the 90% confidence interval for a sample of data with a mean of 75 and a standard deviation of 12, you can use the scipy.stats module in Python. Specifically, you can use the t.interval function to compute the confidence interval based on the t-distribution.\n",
    "\n",
    "Here's the Python code to calculate the 90% confidence interval:"
   ]
  },
  {
   "cell_type": "code",
   "execution_count": 4,
   "id": "35ef3845-ab96-412d-9202-87583ba8189e",
   "metadata": {},
   "outputs": [
    {
     "name": "stdout",
     "output_type": "stream",
     "text": [
      "90% Confidence Interval: (71.28, 78.72)\n"
     ]
    }
   ],
   "source": [
    "import numpy as np\n",
    "from scipy.stats import t\n",
    "\n",
    "# Given data\n",
    "sample_mean = 75\n",
    "sample_stddev = 12\n",
    "sample_size = 30  # Adjust this value according to your actual sample size\n",
    "\n",
    "# Define the confidence level (90%)\n",
    "confidence_level = 0.90\n",
    "\n",
    "# Calculate the standard error (standard deviation of the sample mean)\n",
    "standard_error = sample_stddev / np.sqrt(sample_size)\n",
    "\n",
    "# Calculate the critical value (t-value) for the given confidence level and degrees of freedom\n",
    "degrees_of_freedom = sample_size - 1\n",
    "t_critical = t.ppf((1 + confidence_level) / 2, degrees_of_freedom)\n",
    "\n",
    "# Calculate the confidence interval\n",
    "lower_bound = sample_mean - t_critical * standard_error\n",
    "upper_bound = sample_mean + t_critical * standard_error\n",
    "\n",
    "# Print the result\n",
    "print(f\"90% Confidence Interval: ({lower_bound:.2f}, {upper_bound:.2f})\")"
   ]
  },
  {
   "cell_type": "markdown",
   "id": "c1ffe59e-89f5-473a-8aa0-a628e2b9aae9",
   "metadata": {},
   "source": [
    "In this code, we use the t.ppf function from the scipy.stats module to calculate the critical value (t-value) for the given confidence level and degrees of freedom. Then, we use this t-value to calculate the lower and upper bounds of the confidence interval using the sample mean and standard error."
   ]
  },
  {
   "cell_type": "raw",
   "id": "6a2a20e8-1cc9-45a4-8784-f57ab87e29ce",
   "metadata": {},
   "source": [
    "Q6. Use Python to plot the chi-square distribution with 10 degrees of freedom. Label the axes and shade the\n",
    "area corresponding to a chi-square statistic of 15.\n",
    "\n",
    "Ans--"
   ]
  },
  {
   "cell_type": "code",
   "execution_count": 5,
   "id": "25311cc6-ee22-430b-99e5-b01c39abd835",
   "metadata": {},
   "outputs": [
    {
     "data": {
      "image/png": "[encoded data removed]",
      "text/plain": [
       "<Figure size 640x480 with 1 Axes>"
      ]
     },
     "metadata": {},
     "output_type": "display_data"
    }
   ],
   "source": [
    "import numpy as np\n",
    "import matplotlib.pyplot as plt\n",
    "from scipy.stats import chi2\n",
    "\n",
    "# Degrees of freedom for the chi-square distribution\n",
    "degrees_of_freedom = 10\n",
    "\n",
    "# Generate x values for the plot\n",
    "x = np.linspace(0, 40, 500)\n",
    "\n",
    "# Calculate the probability density function (PDF) for the chi-square distribution\n",
    "pdf = chi2.pdf(x, degrees_of_freedom)\n",
    "\n",
    "# Plot the chi-square distribution\n",
    "plt.plot(x, pdf, label=f'Chi-square ({degrees_of_freedom} df)')\n",
    "\n",
    "# Shade the area corresponding to a chi-square statistic of 15\n",
    "x_shaded = np.linspace(15, 40, 100)\n",
    "pdf_shaded = chi2.pdf(x_shaded, degrees_of_freedom)\n",
    "plt.fill_between(x_shaded, pdf_shaded, alpha=0.5, label='Area for Chi-square stat of 15')\n",
    "\n",
    "# Label the axes and add a legend\n",
    "plt.xlabel('Chi-square Statistic')\n",
    "plt.ylabel('Probability Density Function (PDF)')\n",
    "plt.legend()\n",
    "\n",
    "# Show the plot\n",
    "plt.grid()\n",
    "plt.show()"
   ]
  },
  {
   "cell_type": "markdown",
   "id": "7e8051e5-928c-4b33-8a8d-deea87d98d45",
   "metadata": {},
   "source": [
    "In this code, we use the chi2.pdf function from the scipy.stats module to calculate the probability density function (PDF) of the chi-square distribution for a given set of x values and degrees of freedom. We then use matplotlib to plot the PDF and shade the area corresponding to a chi-square statistic of 15.\n",
    "\n",
    "The resulting plot will show the chi-square distribution with 10 degrees of freedom, and the shaded area will represent the region where the chi-square statistic is equal to 15. The x-axis will be labeled \"Chi-square Statistic,\" and the y-axis will be labeled \"Probability Density Function (PDF).\""
   ]
  },
  {
   "cell_type": "raw",
   "id": "6df183be-41f8-43eb-a512-402ae5d16b48",
   "metadata": {},
   "source": [
    "Q7. A random sample of 1000 people was asked if they preferred Coke or Pepsi. Of the sample, 520\n",
    "preferred Coke. Calculate a 99% confidence interval for the true proportion of people in the population who\n",
    "prefer Coke.\n",
    "\n",
    "Ans--"
   ]
  },
  {
   "cell_type": "markdown",
   "id": "53294ac7-e1f4-4207-9649-3f599f184178",
   "metadata": {},
   "source": [
    "To calculate a confidence interval for the true proportion of people in the population who prefer Coke, you can use the formula for a confidence interval for a proportion. The formula is:\n",
    "\n",
    "CI= ^p ±Z × (1 − ^p)**0.5/n**0.5\n",
    "\n",
    "Where:\n",
    "\n",
    "^p is the sample proportion (520/1000 in this case).\n",
    "\n",
    "Z is the z-score corresponding to the desired confidence level. For a 99% confidence level, Z is approximately 2.576.\n",
    "\n",
    "n is the sample size (1000 in this case).\n",
    "\n",
    "Let's plug in the values and calculate the confidence interval:\n",
    "\n",
    "^p = 520/1000 = 0.52\n",
    "\n",
    "Z = 2.576\n",
    "\n",
    "n = 1000\n",
    "\n",
    "Calculate the standard error of the proportion:\n",
    "\n",
    "= 0.0227\n",
    "\n",
    "Now plug this into the formula:\n",
    "\n",
    "CI=0.52±2.576×0.0227\n",
    "\n",
    "Calculate the margin of error:\n",
    "\n",
    "2.576×0.0227≈0.0585\n",
    "\n",
    "Finally, calculate the confidence interval:\n",
    "\n",
    "Lower bound=0.52−0.0585≈0.4615\n",
    "\n",
    "Upper bound=0.52+0.0585≈0.5815\n",
    "\n",
    "So, the 99% confidence interval for the true proportion of people in the population who prefer Coke is approximately 0.4615 to 0.5815."
   ]
  },
  {
   "cell_type": "raw",
   "id": "7ddeeed3-1fbd-425b-90cc-78535ab3f790",
   "metadata": {},
   "source": [
    "Q8. A researcher hypothesizes that a coin is biased towards tails. They flip the coin 100 times and observe\n",
    "45 tails. Conduct a chi-square goodness of fit test to determine if the observed frequencies match the\n",
    "expected frequencies of a fair coin. Use a significance level of 0.05.\n",
    "\n",
    "Ans--"
   ]
  },
  {
   "cell_type": "markdown",
   "id": "f0e5c43c-aa29-479a-bb76-f4b7225f6d46",
   "metadata": {},
   "source": [
    "A chi-square goodness of fit test is used to determine if there is a significant difference between the expected frequencies and the observed frequencies in a categorical data set. In this case, we are testing whether the observed frequencies of \"tails\" matches the expected frequencies of a fair coin.\n",
    "\n",
    "Let's break down the steps for the chi-square goodness of fit test:\n",
    "\n",
    "Formulate Hypotheses:\n",
    "\n",
    "Null Hypothesis (H0): The coin is fair (biased towards neither heads nor tails).\n",
    "\n",
    "Alternative Hypothesis (H1): The coin is biased towards tails.\n",
    "\n",
    "Calculate Expected Frequencies:\n",
    "\n",
    "For a fair coin, the expected frequencies of heads and tails are both 50 in 100 flips.\n",
    "\n",
    "Set Significance Level:\n",
    "\n",
    "The given significance level is 0.05.\n",
    "\n",
    "Calculate the Chi-Square Test Statistic:\n",
    "\n",
    "χ2=∑(O−E)**2/E\n",
    " \n",
    "Where O is the observed frequency and E is the expected frequency.\n",
    "\n",
    "In this case, the observed frequency of tails is 45, and the expected frequency is 50.\n",
    "\n",
    "χ2= 50(45−50)**2/50=0.5\n",
    "\n",
    "Determine Degrees of Freedom:\n",
    "\n",
    "Degrees of freedom (df) for a goodness of fit test is equal to the number of categories minus 1.\n",
    "\n",
    "In this case, there are 2 categories (heads and tails), so df=2−1=1.\n",
    "\n",
    "Find Critical Value:\n",
    "\n",
    "Look up the critical chi-square value at the given significance level and degrees of freedom (using a chi-square distribution table or calculator). At a significance level of 0.05 and df=1, the critical chi-square value is approximately 3.841.\n",
    "\n",
    "Compare Test Statistic and Critical Value:\n",
    "\n",
    "The calculated test statistic (0.5) is less than the critical value (3.841).\n",
    "\n",
    "Make a Decision:\n",
    "\n",
    "Since the test statistic is not greater than the critical value, we fail to reject the null hypothesis. This means that there is not enough evidence to conclude that the coin is biased towards tails.\n",
    "\n",
    "Conclusion:\n",
    "\n",
    "Based on the chi-square goodness of fit test, at a significance level of 0.05, there is no significant evidence to suggest that the observed frequencies of the coin's outcomes deviate from the expected frequencies of a fair coin."
   ]
  },
  {
   "cell_type": "raw",
   "id": "b1c7eb86-468c-4417-839f-b73903d94c8d",
   "metadata": {},
   "source": [
    "A study was conducted to determine if there is an association between smoking status (smoker or\n",
    "non-smoker) and lung cancer diagnosis (yes or no). The results are shown in the contingency table below.\n",
    "Conduct a chi-square test for independence to determine if there is a significant association between\n",
    "smoking status and lung cancer diagnosis \n",
    "\n",
    "         Lung Cancer: Yes   Lung Cancer: No\n",
    "\n",
    "Smoker      60                   140\n",
    "\n",
    "Non-smoker  30                   170\n",
    "\n",
    "Use a significance level of 0.05.\n",
    "\n",
    "Ans--"
   ]
  },
  {
   "cell_type": "markdown",
   "id": "5c033503-5f5e-46c3-8599-663c3ce2c5a5",
   "metadata": {},
   "source": [
    "To conduct a chi-square test for independence, we'll follow these steps:\n",
    "\n",
    "Step 1: Set Up Hypotheses\n",
    "\n",
    "Null Hypothesis (H0): Smoking status and lung cancer diagnosis are independent.\n",
    "\n",
    "Alternative Hypothesis (H1): Smoking status and lung cancer diagnosis are not independent.\n",
    "\n",
    "Step 2: Calculate the expected frequencies for each cell under the assumption of independence.\n",
    "\n",
    "Expected Frequency for each cell = (Row Total * Column Total) / Grand Total\n",
    "\n",
    "Given the data:\n",
    "\n",
    "Row Total for Smoker = 60 + 140 = 200\n",
    "\n",
    "Row Total for Non-smoker = 30 + 170 = 200\n",
    "\n",
    "Column Total for Lung Cancer Yes = 60 + 30 = 90\n",
    "\n",
    "Column Total for Lung Cancer No = 140 + 170 = 310\n",
    "\n",
    "Grand Total = 200 + 200 = 400\n",
    "\n",
    "Expected Frequency for Smoker and Lung Cancer Yes:\n",
    "\n",
    "(200 * 90) / 400 = 45\n",
    "\n",
    "Expected Frequency for Smoker and Lung Cancer No:\n",
    "\n",
    "(200 * 310) / 400 = 155\n",
    "\n",
    "Expected Frequency for Non-smoker and Lung Cancer Yes:\n",
    "\n",
    "(200 * 90) / 400 = 45\n",
    "\n",
    "Expected Frequency for Non-smoker and Lung Cancer No:\n",
    "\n",
    "(200 * 310) / 400 = 155\n",
    "\n",
    "Step 3: Calculate the chi-square statistic.\n",
    "\n",
    "Chi-square statistic = Σ [(Observed Frequency - Expected Frequency)^2 / Expected Frequency]\n",
    "\n",
    "Calculating for each cell:\n",
    "\n",
    "For Smoker and Lung Cancer Yes:\n",
    "\n",
    "(60 - 45)^2 / 45 = 3.33\n",
    "\n",
    "For Smoker and Lung Cancer No:\n",
    "\n",
    "(140 - 155)^2 / 155 = 1.55\n",
    "\n",
    "For Non-smoker and Lung Cancer Yes:\n",
    "\n",
    "(30 - 45)^2 / 45 = 5.00\n",
    "\n",
    "For Non-smoker and Lung Cancer No:\n",
    "\n",
    "(170 - 155)^2 / 155 = 1.55\n",
    "\n",
    "Summing the values:\n",
    "\n",
    "Chi-square statistic = 3.33 + 1.55 + 5.00 + 1.55 = 11.43\n",
    "\n",
    "Step 4: Degrees of freedom.\n",
    "\n",
    "Degrees of freedom = (Number of rows - 1) * (Number of columns - 1)\n",
    "\n",
    "Degrees of freedom = (2 - 1) * (2 - 1) = 1\n",
    "\n",
    "Step 5: Determine the critical value or p-value.\n",
    "\n",
    "Using a significance level of 0.05 and 1 degree of freedom, you can find the critical value from a chi-square distribution table or use statistical software. Alternatively, you can directly calculate the p-value using the chi-square distribution.\n",
    "\n",
    "Step 6: Compare the chi-square statistic with the critical value or p-value.\n",
    "\n",
    "If the calculated chi-square statistic is greater than the critical value or if the p-value is less than the chosen significance level (0.05), then you reject the null hypothesis."
   ]
  },
  {
   "cell_type": "raw",
   "id": "c0b8f42e-9c93-4d11-b35a-ee9c3be9cb6d",
   "metadata": {},
   "source": [
    "Q.10 A study was conducted to determine if the proportion of people who prefer milk chocolate, dark\n",
    "chocolate, or white chocolate is different in the U.S. versus the U.K. A random sample of 500 people from\n",
    "the U.S. and a random sample of 500 people from the U.K. were surveyed. The results are shown in the\n",
    "contingency table below. Conduct a chi-square test for independence to determine if there is a significant\n",
    "association between chocolate preference and country of origin.\n",
    "\n",
    "                Milk Chocolate Dark Chocolate White Chocolate\n",
    "\n",
    "U.S. (n=500)        200             150              150\n",
    "\n",
    "U.K. (n=500)        225             175              100\n",
    "\n",
    "Use a significance level of 0.01.\n",
    "\n",
    "Ans--"
   ]
  },
  {
   "cell_type": "markdown",
   "id": "eceb26a9-bdfc-49a0-8120-f19cf1d2b748",
   "metadata": {},
   "source": [
    "To conduct a chi-square test for independence on the given contingency table, follow these steps:\n",
    "\n",
    "Step 1: Set up the null and alternative hypotheses.\n",
    "\n",
    "Null Hypothesis (H0): Chocolate preference and country of origin are independent.\n",
    "\n",
    "Alternative Hypothesis (Ha): There is a significant association between chocolate preference and country of origin.\n",
    "\n",
    "Step 2: Calculate the expected frequencies for each cell under the assumption of independence.\n",
    "\n",
    "Expected Frequency for each cell = (Row Total * Column Total) / Grand Total\n",
    "\n",
    "Given the data:\n",
    "\n",
    "Row Total for U.S. = 200 + 150 + 150 = 500\n",
    "\n",
    "Row Total for U.K. = 225 + 175 + 100 = 500\n",
    "\n",
    "Column Total for Milk Chocolate = 200 + 225 = 425\n",
    "\n",
    "Column Total for Dark Chocolate = 150 + 175 = 325\n",
    "\n",
    "Column Total for White Chocolate = 150 + 100 = 250\n",
    "\n",
    "Grand Total = 500 + 500 = 1000\n",
    "\n",
    "Expected Frequency for U.S. and Milk Chocolate:\n",
    "\n",
    "(500 * 425) / 1000 = 212.5\n",
    "\n",
    "Expected Frequency for U.S. and Dark Chocolate:\n",
    "\n",
    "(500 * 325) / 1000 = 162.5\n",
    "\n",
    "Expected Frequency for U.S. and White Chocolate:\n",
    "\n",
    "(500 * 250) / 1000 = 125\n",
    "\n",
    "Expected Frequency for U.K. and Milk Chocolate:\n",
    "\n",
    "(500 * 425) / 1000 = 212.5\n",
    "\n",
    "Expected Frequency for U.K. and Dark Chocolate:\n",
    "\n",
    "(500 * 325) / 1000 = 162.5\n",
    "\n",
    "Expected Frequency for U.K. and White Chocolate:\n",
    "\n",
    "(500 * 250) / 1000 = 125\n",
    "\n",
    "Step 3: Calculate the chi-square statistic.\n",
    "\n",
    "Chi-square statistic = Σ [(Observed Frequency - Expected Frequency)^2 / Expected Frequency]\n",
    "\n",
    "Calculating for each cell:\n",
    "\n",
    "For U.S. and Milk Chocolate:\n",
    "\n",
    "(200 - 212.5)^2 / 212.5 ≈ 0.293\n",
    "\n",
    "For U.S. and Dark Chocolate:\n",
    "\n",
    "(150 - 162.5)^2 / 162.5 ≈ 0.462\n",
    "\n",
    "For U.S. and White Chocolate:\n",
    "\n",
    "(150 - 125)^2 / 125 = 6\n",
    "\n",
    "For U.K. and Milk Chocolate:\n",
    "\n",
    "(225 - 212.5)^2 / 212.5 ≈ 0.293\n",
    "\n",
    "For U.K. and Dark Chocolate:\n",
    "\n",
    "(175 - 162.5)^2 / 162.5 ≈ 0.462\n",
    "\n",
    "For U.K. and White Chocolate:\n",
    "\n",
    "(100 - 125)^2 / 125 = 20\n",
    "\n",
    "Summing the values:\n",
    "\n",
    "Chi-square statistic ≈ 0.293 + 0.462 + 6 + 0.293 + 0.462 + 20 ≈ 27.823\n",
    "\n",
    "Step 4: Degrees of freedom.\n",
    "\n",
    "Degrees of freedom = (Number of rows - 1) * (Number of columns - 1)\n",
    "\n",
    "Degrees of freedom = (2 - 1) * (3 - 1) = 2\n",
    "\n",
    "Step 5: Determine the critical value or p-value.\n",
    "\n",
    "Using a significance level of 0.01 and 2 degrees of freedom, you can find the critical value from a chi-square distribution table or use statistical software. Alternatively, you can directly calculate the p-value using the chi-square distribution.\n",
    "\n",
    "Step 6: Compare the chi-square statistic with the critical value or p-value.\n",
    "\n",
    "If the calculated chi-square statistic is greater than the critical value or if the p-value is less than the chosen significance level (0.01), then you reject the null hypothesis.\n",
    "\n",
    "Please note that actual calculations should be done using a calculator, statistical software, or programming libraries that support chi-square tests."
   ]
  },
  {
   "cell_type": "raw",
   "id": "77a8d8a2-5ce6-48fc-8603-8c36425d9a9a",
   "metadata": {},
   "source": [
    "Q11. A random sample of 30 people was selected from a population with an unknown mean and standard\n",
    "deviation. The sample mean was found to be 72 and the sample standard deviation was found to be 10.\n",
    "Conduct a hypothesis test to determine if the population mean is significantly different from 70. Use a\n",
    "significance level of 0.05.\n",
    "\n",
    "Ans--"
   ]
  },
  {
   "cell_type": "markdown",
   "id": "6e998bec-cba9-41e1-8f97-9bb5dca1abb3",
   "metadata": {},
   "source": [
    "To conduct a hypothesis test for the population mean using a one-sample t-test, follow these steps:\n",
    "\n",
    "Step 1: Set up the null and alternative hypotheses.\n",
    "\n",
    "Null Hypothesis (H0): The population mean is equal to 70 (μ = 70).\n",
    "\n",
    "Alternative Hypothesis (Ha): The population mean is significantly different from 70 (μ ≠ 70).\n",
    "\n",
    "Step 2: Choose the significance level.\n",
    "\n",
    "Given that the significance level is 0.05, this is the probability of making a Type I error (rejecting the null hypothesis when it's actually true).\n",
    "\n",
    "Step 3: Calculate the test statistic.\n",
    "\n",
    "The test statistic for a one-sample t-test is calculated as follows:\n",
    "\n",
    "t= ˉx - μ/s/n**0.5\n",
    "\n",
    "where:\n",
    "\n",
    "ˉx = sample mean (72)\n",
    "\n",
    "μ = hypothesized population mean (70)\n",
    "\n",
    "s = sample standard deviation (10)\n",
    "\n",
    "n = sample size (30)\n",
    "\n",
    "Substitute the values into the formula:\n",
    "�\n",
    "=\n",
    "72\n",
    "−\n",
    "70\n",
    "10\n",
    "/\n",
    "30\n",
    "t= \n",
    "10/ \n",
    "30\n",
    "​\n",
    " \n",
    "72−70\n",
    "​\n",
    " \n",
    "[ t \\approx 0.632 ]\n",
    "\n",
    "Step 4: Calculate the degrees of freedom.\n",
    "\n",
    "Degrees of freedom (df) for a one-sample t-test is n−1, where n is the sample size.\n",
    "\n",
    "In this case, \n",
    "\n",
    "df=30−1=29.\n",
    "\n",
    "Step 5: Determine the critical value or p-value.\n",
    "\n",
    "Since we're conducting a two-tailed test (the alternative hypothesis is not specific about the direction of the difference), we need to find the critical t-value(s) that correspond to the desired significance level (0.05) and the degrees of freedom (29). You can use a t-distribution table or statistical software to find these critical values.\n",
    "\n",
    "Step 6: Compare the test statistic with the critical value or p-value."
   ]
  }
 ],
 "metadata": {
  "kernelspec": {
   "display_name": "Python 3 (ipykernel)",
   "language": "python",
   "name": "python3"
  },
  "language_info": {
   "codemirror_mode": {
    "name": "ipython",
    "version": 3
   },
   "file_extension": ".py",
   "mimetype": "text/x-python",
   "name": "python",
   "nbconvert_exporter": "python",
   "pygments_lexer": "ipython3",
   "version": "3.10.8"
  }
 },
 "nbformat": 4,
 "nbformat_minor": 5
}
